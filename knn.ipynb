{
 "cells": [
  {
   "cell_type": "markdown",
   "metadata": {},
   "source": [
    "# Метод K-ближайших соседей"
   ]
  },
  {
   "cell_type": "markdown",
   "metadata": {},
   "source": [
    "***\n",
    "## Считывание датасета"
   ]
  },
  {
   "cell_type": "code",
   "execution_count": 1,
   "metadata": {},
   "outputs": [],
   "source": [
    "import numpy as np\n",
    "import matplotlib.pyplot as plt\n",
    "import pandas as pd"
   ]
  },
  {
   "cell_type": "markdown",
   "metadata": {},
   "source": [
    "Прописываем путь к нашему датасету"
   ]
  },
  {
   "cell_type": "code",
   "execution_count": 2,
   "metadata": {},
   "outputs": [],
   "source": [
    "PATH = \"data/knn/\";\n",
    "data = \"dataset.txt\";"
   ]
  },
  {
   "cell_type": "markdown",
   "metadata": {},
   "source": [
    "Функция `createDateSet` считывает данные с файла `data` и переводит их в формат списков.\n",
    "\n",
    "Далее загружаем наш датасет и выводим одну из цифр через `matplotlib`."
   ]
  },
  {
   "cell_type": "code",
   "execution_count": 3,
   "metadata": {},
   "outputs": [],
   "source": [
    "def createDataSet(ptxt: str = f'{PATH}{data}') -> list:\n",
    "    labels = []\n",
    "    digits = []\n",
    "    with open(ptxt) as f:\n",
    "        for line in f:\n",
    "            digits.append([float(x) for x in line.split()[:-10]])\n",
    "            labels.append(line.split()[-10:].index('1'))\n",
    "    return np.array(digits), np.array(labels)\n",
    "        "
   ]
  },
  {
   "cell_type": "code",
   "execution_count": 4,
   "metadata": {},
   "outputs": [],
   "source": [
    "digits, labels = createDataSet()"
   ]
  },
  {
   "cell_type": "markdown",
   "metadata": {},
   "source": [
    "***\n",
    "## Знакомимся с датасетом поближе"
   ]
  },
  {
   "cell_type": "code",
   "execution_count": 5,
   "metadata": {},
   "outputs": [
    {
     "data": {
      "text/plain": [
       "array([0, 0, 0, ..., 9, 9, 9])"
      ]
     },
     "execution_count": 5,
     "metadata": {},
     "output_type": "execute_result"
    }
   ],
   "source": [
    "labels"
   ]
  },
  {
   "cell_type": "code",
   "execution_count": 6,
   "metadata": {},
   "outputs": [
    {
     "data": {
      "text/plain": [
       "(1593, 1593, (1593, 256), (1593,))"
      ]
     },
     "execution_count": 6,
     "metadata": {},
     "output_type": "execute_result"
    }
   ],
   "source": [
    "len(digits), len(labels), digits.shape, labels.shape"
   ]
  },
  {
   "cell_type": "markdown",
   "metadata": {},
   "source": [
    "С помощью `pandas` смотрим на количество цифр в нашем датасете. Как видно ниже меньше всего 8ок, а больше всего 1ц. Но разница между в количестве между 8ми и 1ми всего лишь 7. Так что можно считать, что всех цифр поровну"
   ]
  },
  {
   "cell_type": "code",
   "execution_count": 7,
   "metadata": {},
   "outputs": [],
   "source": [
    "df = pd.DataFrame(labels)\n",
    "df.columns = ['label']"
   ]
  },
  {
   "cell_type": "code",
   "execution_count": 8,
   "metadata": {},
   "outputs": [
    {
     "data": {
      "text/plain": [
       "1    162\n",
       "6    161\n",
       "4    161\n",
       "0    161\n",
       "5    159\n",
       "3    159\n",
       "2    159\n",
       "9    158\n",
       "7    158\n",
       "8    155\n",
       "Name: label, dtype: int64"
      ]
     },
     "execution_count": 8,
     "metadata": {},
     "output_type": "execute_result"
    }
   ],
   "source": [
    "df['label'].value_counts()"
   ]
  },
  {
   "cell_type": "markdown",
   "metadata": {},
   "source": [
    "Случайная цифра из датасета"
   ]
  },
  {
   "cell_type": "code",
   "execution_count": 9,
   "metadata": {},
   "outputs": [
    {
     "data": {
      "text/plain": [
       "(5, <matplotlib.image.AxesImage at 0x22bc10546d8>)"
      ]
     },
     "execution_count": 9,
     "metadata": {},
     "output_type": "execute_result"
    },
    {
     "data": {
      "image/png": "[encoded data removed]",
      "text/plain": [
       "<Figure size 432x288 with 1 Axes>"
      ]
     },
     "metadata": {},
     "output_type": "display_data"
    }
   ],
   "source": [
    "img = digits[100].reshape(16, 16)\n",
    "labels[100], plt.imshow(img)"
   ]
  },
  {
   "cell_type": "markdown",
   "metadata": {
    "slideshow": {
     "slide_type": "-"
    }
   },
   "source": [
    "***\n",
    "## Строим модель"
   ]
  },
  {
   "cell_type": "markdown",
   "metadata": {},
   "source": [
    "Импортируем `scikit-learn`"
   ]
  },
  {
   "cell_type": "code",
   "execution_count": 10,
   "metadata": {},
   "outputs": [],
   "source": [
    "from sklearn.neighbors import KNeighborsClassifier\n",
    "from sklearn.model_selection import train_test_split"
   ]
  },
  {
   "cell_type": "markdown",
   "metadata": {},
   "source": [
    "Создаем тренеровочную и тестовую выборку с помощью функции `train_test_split`"
   ]
  },
  {
   "cell_type": "code",
   "execution_count": 11,
   "metadata": {},
   "outputs": [],
   "source": [
    "x_train, x_test, y_train, y_test = train_test_split(digits, labels, test_size=0.25, random_state=42)"
   ]
  },
  {
   "cell_type": "markdown",
   "metadata": {},
   "source": [
    "Теперь создаем нашу модель с помощью класса `KNeighborsClassifier`. Ставим окно в 14 ближайщих соседей. Обучаем нашу модель с помощью метода `fit`."
   ]
  },
  {
   "cell_type": "code",
   "execution_count": 12,
   "metadata": {},
   "outputs": [],
   "source": [
    "model = KNeighborsClassifier()"
   ]
  },
  {
   "cell_type": "code",
   "execution_count": 13,
   "metadata": {},
   "outputs": [
    {
     "data": {
      "text/plain": [
       "KNeighborsClassifier(algorithm='auto', leaf_size=30, metric='minkowski',\n",
       "           metric_params=None, n_jobs=1, n_neighbors=5, p=2,\n",
       "           weights='uniform')"
      ]
     },
     "execution_count": 13,
     "metadata": {},
     "output_type": "execute_result"
    }
   ],
   "source": [
    "model.fit(x_train, y_train)"
   ]
  },
  {
   "cell_type": "markdown",
   "metadata": {},
   "source": [
    "Импортируем функцию `accuracy_score` для оценки качества нашей модели. Проверяем нашу модель на тестовой выборке. Точность: 89-91% "
   ]
  },
  {
   "cell_type": "code",
   "execution_count": 14,
   "metadata": {},
   "outputs": [],
   "source": [
    "from sklearn.metrics import accuracy_score"
   ]
  },
  {
   "cell_type": "code",
   "execution_count": 15,
   "metadata": {},
   "outputs": [
    {
     "data": {
      "text/plain": [
       "0.9097744360902256"
      ]
     },
     "execution_count": 15,
     "metadata": {},
     "output_type": "execute_result"
    }
   ],
   "source": [
    "accuracy_score(y_test, model.predict(x_test))"
   ]
  },
  {
   "cell_type": "markdown",
   "metadata": {},
   "source": [
    "Предиктим цифру, которую рисовали выше. Получаем 5. Ответ верный."
   ]
  },
  {
   "cell_type": "code",
   "execution_count": 16,
   "metadata": {},
   "outputs": [
    {
     "data": {
      "text/plain": [
       "array([5])"
      ]
     },
     "execution_count": 16,
     "metadata": {},
     "output_type": "execute_result"
    }
   ],
   "source": [
    "model.predict(digits[100][None])"
   ]
  },
  {
   "cell_type": "markdown",
   "metadata": {},
   "source": [
    "Теперь посмотрим на наши результаты получше, построим матрицу несоответствия. Импортируем модуль `ConfusionMatrix` из `pandas_ml` с помощью него построим и выведем нашу матрицу.\n",
    "\n",
    "Видно что подавляющее большинство цифр распознается верно."
   ]
  },
  {
   "cell_type": "code",
   "execution_count": 17,
   "metadata": {},
   "outputs": [],
   "source": [
    "from pandas_ml import ConfusionMatrix"
   ]
  },
  {
   "cell_type": "code",
   "execution_count": 18,
   "metadata": {},
   "outputs": [
    {
     "data": {
      "text/plain": [
       "<matplotlib.axes._subplots.AxesSubplot at 0x22bc31904a8>"
      ]
     },
     "execution_count": 18,
     "metadata": {},
     "output_type": "execute_result"
    },
    {
     "data": {
      "image/png": "[encoded data removed]",
      "text/plain": [
       "<Figure size 648x576 with 2 Axes>"
      ]
     },
     "metadata": {},
     "output_type": "display_data"
    }
   ],
   "source": [
    "y_pred = model.predict(x_test)\n",
    "cm = ConfusionMatrix(y_test, y_pred)\n",
    "cm.plot(cmap=plt.cm.Blues)"
   ]
  },
  {
   "cell_type": "code",
   "execution_count": 19,
   "metadata": {},
   "outputs": [
    {
     "data": {
      "text/plain": [
       "Predicted   0   1   2   3   4   5   6   7   8   9  __all__\n",
       "Actual                                                    \n",
       "0          35   0   0   0   0   0   1   0   0   0       36\n",
       "1           0  35   1   0   0   0   0   0   0   0       36\n",
       "2           0   2  39   0   0   0   0   0   0   0       41\n",
       "3           0   0   1  44   0   0   0   0   1   1       47\n",
       "4           0   2   1   0  40   0   0   0   0   0       43\n",
       "5           0   0   0   0   0  37   0   0   0   0       37\n",
       "6           0   0   0   0   1   1  32   0   0   0       34\n",
       "7           0   6   0   0   0   0   0  33   0   0       39\n",
       "8           1   0   4   1   0   1   0   1  33   1       42\n",
       "9           2   1   0   2   1   3   0   0   0  35       44\n",
       "__all__    38  46  46  47  42  42  33  34  34  37      399"
      ]
     },
     "execution_count": 19,
     "metadata": {},
     "output_type": "execute_result"
    }
   ],
   "source": [
    "cm"
   ]
  },
  {
   "cell_type": "markdown",
   "metadata": {},
   "source": [
    "***\n",
    "## Гиперпараметры"
   ]
  },
  {
   "cell_type": "markdown",
   "metadata": {},
   "source": [
    "Теперь улучшим модель. Подберем такие параметры, чтобы наша точность была наилучшей. Мы будем подбирать `n_neighbors`, `metric` и `weights`.\n",
    "\n",
    "Ниже импортируем класс `GridSearchCV`. Задаем словарь с параметрами `params`. Из этих параметров мы выберем те, которые дадут наилучший результат в распозновании цифр."
   ]
  },
  {
   "cell_type": "code",
   "execution_count": 28,
   "metadata": {},
   "outputs": [],
   "source": [
    "from sklearn.grid_search import GridSearchCV"
   ]
  },
  {
   "cell_type": "code",
   "execution_count": 21,
   "metadata": {},
   "outputs": [],
   "source": [
    "params = {\"n_neighbors\": np.arange(1, 31, 2), \n",
    "          \"metric\": [\"euclidean\", \"cityblock\", \"chebyshev\"],\n",
    "          \"weights\": [\"uniform\",\"distance\"]}"
   ]
  },
  {
   "cell_type": "markdown",
   "metadata": {},
   "source": [
    "Создаем объект `grid` класса `GridSearchCV` и передаем туда наши параметры. Обучаем его и находим наилучшие параметры и так же смотрим нашу точность на них."
   ]
  },
  {
   "cell_type": "code",
   "execution_count": 22,
   "metadata": {},
   "outputs": [],
   "source": [
    "grid = GridSearchCV(model, params)"
   ]
  },
  {
   "cell_type": "code",
   "execution_count": 23,
   "metadata": {},
   "outputs": [
    {
     "data": {
      "text/plain": [
       "GridSearchCV(cv=None, error_score='raise',\n",
       "       estimator=KNeighborsClassifier(algorithm='auto', leaf_size=30, metric='minkowski',\n",
       "           metric_params=None, n_jobs=1, n_neighbors=5, p=2,\n",
       "           weights='uniform'),\n",
       "       fit_params={}, iid=True, n_jobs=1,\n",
       "       param_grid={'n_neighbors': array([ 1,  3,  5,  7,  9, 11, 13, 15, 17, 19, 21, 23, 25, 27, 29]), 'metric': ['euclidean', 'cityblock', 'chebyshev'], 'weights': ['uniform', 'distance']},\n",
       "       pre_dispatch='2*n_jobs', refit=True, scoring=None, verbose=0)"
      ]
     },
     "execution_count": 23,
     "metadata": {},
     "output_type": "execute_result"
    }
   ],
   "source": [
    "grid.fit(x_train, y_train)"
   ]
  },
  {
   "cell_type": "code",
   "execution_count": 24,
   "metadata": {},
   "outputs": [
    {
     "data": {
      "text/plain": [
       "{'metric': 'euclidean', 'n_neighbors': 3, 'weights': 'distance'}"
      ]
     },
     "execution_count": 24,
     "metadata": {},
     "output_type": "execute_result"
    }
   ],
   "source": [
    "grid.best_params_"
   ]
  },
  {
   "cell_type": "code",
   "execution_count": 25,
   "metadata": {},
   "outputs": [
    {
     "data": {
      "text/plain": [
       "0.9273182957393483"
      ]
     },
     "execution_count": 25,
     "metadata": {},
     "output_type": "execute_result"
    }
   ],
   "source": [
    "acc = grid.score(x_test, y_test)\n",
    "acc"
   ]
  },
  {
   "cell_type": "markdown",
   "metadata": {},
   "source": [
    "Добившись такого результата снова постром матрицу несоответствия."
   ]
  },
  {
   "cell_type": "code",
   "execution_count": 26,
   "metadata": {},
   "outputs": [
    {
     "data": {
      "text/plain": [
       "<matplotlib.axes._subplots.AxesSubplot at 0x22bc32e1f98>"
      ]
     },
     "execution_count": 26,
     "metadata": {},
     "output_type": "execute_result"
    },
    {
     "data": {
      "image/png": "[encoded data removed]",
      "text/plain": [
       "<Figure size 648x576 with 2 Axes>"
      ]
     },
     "metadata": {},
     "output_type": "display_data"
    }
   ],
   "source": [
    "y_pred = grid.predict(x_test)\n",
    "cm = ConfusionMatrix(y_test, y_pred)\n",
    "cm.plot(cmap=plt.cm.Blues)"
   ]
  },
  {
   "cell_type": "code",
   "execution_count": 27,
   "metadata": {},
   "outputs": [
    {
     "name": "stderr",
     "output_type": "stream",
     "text": [
      "C:\\Users\\Fridge\\Anaconda3\\envs\\fastai\\lib\\site-packages\\pandas_ml\\confusion_matrix\\stats.py:60: FutureWarning: supplying multiple axes to axis is deprecated and will be removed in a future version.\n",
      "  num = df[df > 1].dropna(axis=[0, 1], thresh=1).applymap(lambda n: choose(n, 2)).sum().sum() - np.float64(nis2 * njs2) / n2\n",
      "C:\\Users\\Fridge\\Anaconda3\\envs\\fastai\\lib\\site-packages\\pandas_ml\\confusion_matrix\\bcm.py:346: RuntimeWarning: divide by zero encountered in double_scalars\n",
      "  return(np.float64(self.LRP) / self.LRN)\n",
      "C:\\Users\\Fridge\\Anaconda3\\envs\\fastai\\lib\\site-packages\\pandas_ml\\confusion_matrix\\bcm.py:332: RuntimeWarning: divide by zero encountered in double_scalars\n",
      "  return(np.float64(self.TPR) / self.FPR)\n"
     ]
    },
    {
     "data": {
      "text/plain": [
       "OrderedDict([('cm', Predicted   0   1   2   3   4   5   6   7   8   9  __all__\n",
       "              Actual                                                    \n",
       "              0          35   0   0   0   0   0   1   0   0   0       36\n",
       "              1           0  36   0   0   0   0   0   0   0   0       36\n",
       "              2           0   1  40   0   0   0   0   0   0   0       41\n",
       "              3           0   0   0  46   0   0   0   0   0   1       47\n",
       "              4           0   2   1   0  38   0   0   1   0   1       43\n",
       "              5           0   0   0   0   0  36   1   0   0   0       37\n",
       "              6           0   0   0   0   0   1  33   0   0   0       34\n",
       "              7           0   3   1   0   0   0   0  35   0   0       39\n",
       "              8           1   0   1   2   0   1   0   1  34   2       42\n",
       "              9           2   1   0   1   1   2   0   0   0  37       44\n",
       "              __all__    38  43  43  49  39  40  35  37  34  41      399),\n",
       "             ('overall',\n",
       "              OrderedDict([('Accuracy', 0.9273182957393483),\n",
       "                           ('95% CI',\n",
       "                            (0.8972831026354333, 0.9507864878869159)),\n",
       "                           ('No Information Rate', 'ToDo'),\n",
       "                           ('P-Value [Acc > NIR]', 2.48863701536489e-295),\n",
       "                           ('Kappa', 0.9191952345370363),\n",
       "                           (\"Mcnemar's Test P-Value\", 'ToDo')])),\n",
       "             ('class',\n",
       "              Classes                                         0          1           2  \\\n",
       "              Population                                    399        399         399   \n",
       "              P: Condition positive                          36         36          41   \n",
       "              N: Condition negative                         363        363         358   \n",
       "              Test outcome positive                          38         43          43   \n",
       "              Test outcome negative                         361        356         356   \n",
       "              TP: True Positive                              35         36          40   \n",
       "              TN: True Negative                             360        356         355   \n",
       "              FP: False Positive                              3          7           3   \n",
       "              FN: False Negative                              1          0           1   \n",
       "              TPR: (Sensitivity, hit rate, recall)     0.972222          1     0.97561   \n",
       "              TNR=SPC: (Specificity)                   0.991736   0.980716     0.99162   \n",
       "              PPV: Pos Pred Value (Precision)          0.921053   0.837209    0.930233   \n",
       "              NPV: Neg Pred Value                       0.99723          1    0.997191   \n",
       "              FPR: False-out                         0.00826446  0.0192837  0.00837989   \n",
       "              FDR: False Discovery Rate               0.0789474   0.162791   0.0697674   \n",
       "              FNR: Miss Rate                          0.0277778          0   0.0243902   \n",
       "              ACC: Accuracy                            0.989975   0.982456    0.989975   \n",
       "              F1 score                                 0.945946   0.911392    0.952381   \n",
       "              MCC: Matthews correlation coefficient    0.940843   0.906126    0.947118   \n",
       "              Informedness                             0.963958   0.980716     0.96723   \n",
       "              Markedness                               0.918283   0.837209    0.927424   \n",
       "              Prevalence                              0.0902256  0.0902256    0.102757   \n",
       "              LR+: Positive likelihood ratio            117.639    51.8571     116.423   \n",
       "              LR-: Negative likelihood ratio          0.0280093          0   0.0245964   \n",
       "              DOR: Diagnostic odds ratio                   4200        inf     4733.33   \n",
       "              FOR: False omission rate               0.00277008          0  0.00280899   \n",
       "              \n",
       "              Classes                                         3           4           5  \\\n",
       "              Population                                    399         399         399   \n",
       "              P: Condition positive                          47          43          37   \n",
       "              N: Condition negative                         352         356         362   \n",
       "              Test outcome positive                          49          39          40   \n",
       "              Test outcome negative                         350         360         359   \n",
       "              TP: True Positive                              46          38          36   \n",
       "              TN: True Negative                             349         355         358   \n",
       "              FP: False Positive                              3           1           4   \n",
       "              FN: False Negative                              1           5           1   \n",
       "              TPR: (Sensitivity, hit rate, recall)     0.978723    0.883721    0.972973   \n",
       "              TNR=SPC: (Specificity)                   0.991477    0.997191     0.98895   \n",
       "              PPV: Pos Pred Value (Precision)          0.938776    0.974359         0.9   \n",
       "              NPV: Neg Pred Value                      0.997143    0.986111    0.997214   \n",
       "              FPR: False-out                         0.00852273  0.00280899   0.0110497   \n",
       "              FDR: False Discovery Rate               0.0612245    0.025641         0.1   \n",
       "              FNR: Miss Rate                          0.0212766    0.116279    0.027027   \n",
       "              ACC: Accuracy                            0.989975    0.984962    0.987469   \n",
       "              F1 score                                 0.958333    0.926829    0.935065   \n",
       "              MCC: Matthews correlation coefficient    0.952905    0.919831    0.929006   \n",
       "              Informedness                             0.970201    0.880912    0.961923   \n",
       "              Markedness                               0.935918     0.96047    0.897214   \n",
       "              Prevalence                               0.117794    0.107769   0.0927318   \n",
       "              LR+: Positive likelihood ratio            114.837     314.605     88.0541   \n",
       "              LR-: Negative likelihood ratio          0.0214595    0.116607    0.027329   \n",
       "              DOR: Diagnostic odds ratio                5351.33        2698        3222   \n",
       "              FOR: False omission rate               0.00285714   0.0138889  0.00278552   \n",
       "              \n",
       "              Classes                                         6           7          8  \\\n",
       "              Population                                    399         399        399   \n",
       "              P: Condition positive                          34          39         42   \n",
       "              N: Condition negative                         365         360        357   \n",
       "              Test outcome positive                          35          37         34   \n",
       "              Test outcome negative                         364         362        365   \n",
       "              TP: True Positive                              33          35         34   \n",
       "              TN: True Negative                             363         358        357   \n",
       "              FP: False Positive                              2           2          0   \n",
       "              FN: False Negative                              1           4          8   \n",
       "              TPR: (Sensitivity, hit rate, recall)     0.970588    0.897436   0.809524   \n",
       "              TNR=SPC: (Specificity)                   0.994521    0.994444          1   \n",
       "              PPV: Pos Pred Value (Precision)          0.942857    0.945946          1   \n",
       "              NPV: Neg Pred Value                      0.997253     0.98895   0.978082   \n",
       "              FPR: False-out                         0.00547945  0.00555556          0   \n",
       "              FDR: False Discovery Rate               0.0571429   0.0540541          0   \n",
       "              FNR: Miss Rate                          0.0294118    0.102564   0.190476   \n",
       "              ACC: Accuracy                            0.992481    0.984962    0.97995   \n",
       "              F1 score                                 0.956522    0.921053   0.894737   \n",
       "              MCC: Matthews correlation coefficient    0.952527    0.913135   0.889821   \n",
       "              Informedness                             0.965109     0.89188   0.809524   \n",
       "              Markedness                                0.94011    0.934896   0.978082   \n",
       "              Prevalence                               0.085213   0.0977444   0.105263   \n",
       "              LR+: Positive likelihood ratio            177.132     161.538        inf   \n",
       "              LR-: Negative likelihood ratio          0.0295738    0.103137   0.190476   \n",
       "              DOR: Diagnostic odds ratio                 5989.5     1566.25        inf   \n",
       "              FOR: False omission rate               0.00274725   0.0110497  0.0219178   \n",
       "              \n",
       "              Classes                                        9  \n",
       "              Population                                   399  \n",
       "              P: Condition positive                         44  \n",
       "              N: Condition negative                        355  \n",
       "              Test outcome positive                         41  \n",
       "              Test outcome negative                        358  \n",
       "              TP: True Positive                             37  \n",
       "              TN: True Negative                            351  \n",
       "              FP: False Positive                             4  \n",
       "              FN: False Negative                             7  \n",
       "              TPR: (Sensitivity, hit rate, recall)    0.840909  \n",
       "              TNR=SPC: (Specificity)                  0.988732  \n",
       "              PPV: Pos Pred Value (Precision)         0.902439  \n",
       "              NPV: Neg Pred Value                     0.980447  \n",
       "              FPR: False-out                         0.0112676  \n",
       "              FDR: False Discovery Rate               0.097561  \n",
       "              FNR: Miss Rate                          0.159091  \n",
       "              ACC: Accuracy                           0.972431  \n",
       "              F1 score                                0.870588  \n",
       "              MCC: Matthews correlation coefficient    0.85585  \n",
       "              Informedness                            0.829641  \n",
       "              Markedness                              0.882886  \n",
       "              Prevalence                              0.110276  \n",
       "              LR+: Positive likelihood ratio           74.6307  \n",
       "              LR-: Negative likelihood ratio          0.160904  \n",
       "              DOR: Diagnostic odds ratio               463.821  \n",
       "              FOR: False omission rate               0.0195531  )])"
      ]
     },
     "execution_count": 27,
     "metadata": {},
     "output_type": "execute_result"
    }
   ],
   "source": [
    "cm.stats()"
   ]
  },
  {
   "cell_type": "code",
   "execution_count": null,
   "metadata": {},
   "outputs": [],
   "source": []
  }
 ],
 "metadata": {
  "kernelspec": {
   "display_name": "Python 3",
   "language": "python",
   "name": "python3"
  },
  "language_info": {
   "codemirror_mode": {
    "name": "ipython",
    "version": 3
   },
   "file_extension": ".py",
   "mimetype": "text/x-python",
   "name": "python",
   "nbconvert_exporter": "python",
   "pygments_lexer": "ipython3",
   "version": "3.6.5"
  }
 },
 "nbformat": 4,
 "nbformat_minor": 2
}
