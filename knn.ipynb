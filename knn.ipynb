{
 "cells": [
  {
   "cell_type": "markdown",
   "metadata": {},
   "source": [
    "# Метод K-ближайших соседей"
   ]
  },
  {
   "cell_type": "markdown",
   "metadata": {},
   "source": [
    "***\n",
    "## Считывание датасета"
   ]
  },
  {
   "cell_type": "code",
   "execution_count": 2,
   "metadata": {},
   "outputs": [],
   "source": [
    "import numpy as np\n",
    "import matplotlib.pyplot as plt\n",
    "import pandas as pd"
   ]
  },
  {
   "cell_type": "markdown",
   "metadata": {},
   "source": [
    "Прописываем путь к нашему датасету"
   ]
  },
  {
   "cell_type": "code",
   "execution_count": 3,
   "metadata": {},
   "outputs": [],
   "source": [
    "PATH = \"../data/knn/\";\n",
    "data = \"dataset.txt\";"
   ]
  },
  {
   "cell_type": "markdown",
   "metadata": {},
   "source": [
    "Функция `createDateSet` считывает данные с файла `data` и переводит их в формат списков.\n",
    "\n",
    "Далее загружаем наш датасет и выводим одну из цифр через `matplotlib`."
   ]
  },
  {
   "cell_type": "code",
   "execution_count": 4,
   "metadata": {},
   "outputs": [],
   "source": [
    "def createDataSet(ptxt: str = f'{PATH}{data}') -> list:\n",
    "    labels = []\n",
    "    digits = []\n",
    "    with open(ptxt) as f:\n",
    "        for line in f:\n",
    "            digits.append([float(x) for x in line.split()[:-10]])\n",
    "            labels.append(line.split()[-10:].index('1'))\n",
    "    return np.array(digits), np.array(labels)\n",
    "        "
   ]
  },
  {
   "cell_type": "code",
   "execution_count": 5,
   "metadata": {},
   "outputs": [],
   "source": [
    "digits, labels = createDataSet()"
   ]
  },
  {
   "cell_type": "markdown",
   "metadata": {},
   "source": [
    "***\n",
    "## Знакомимся с датасетом поближе"
   ]
  },
  {
   "cell_type": "code",
   "execution_count": 6,
   "metadata": {},
   "outputs": [
    {
     "data": {
      "text/plain": [
       "array([0, 0, 0, ..., 9, 9, 9])"
      ]
     },
     "execution_count": 6,
     "metadata": {},
     "output_type": "execute_result"
    }
   ],
   "source": [
    "labels"
   ]
  },
  {
   "cell_type": "code",
   "execution_count": 7,
   "metadata": {},
   "outputs": [
    {
     "data": {
      "text/plain": [
       "(1593, 1593, (1593, 256), (1593,))"
      ]
     },
     "execution_count": 7,
     "metadata": {},
     "output_type": "execute_result"
    }
   ],
   "source": [
    "len(digits), len(labels), digits.shape, labels.shape"
   ]
  },
  {
   "cell_type": "markdown",
   "metadata": {},
   "source": [
    "С помощью `pandas` смотрим на количество цифр в нашем датасете. Как видно ниже меньше всего 8ок, а больше всего 1ц. Но разница между в количестве между 8ми и 1ми всего лишь 7. Так что можно считать, что всех цифр поровну"
   ]
  },
  {
   "cell_type": "code",
   "execution_count": 8,
   "metadata": {},
   "outputs": [],
   "source": [
    "df = pd.DataFrame(labels)\n",
    "df.columns = ['label']"
   ]
  },
  {
   "cell_type": "code",
   "execution_count": 9,
   "metadata": {},
   "outputs": [
    {
     "data": {
      "text/plain": [
       "1    162\n",
       "6    161\n",
       "4    161\n",
       "0    161\n",
       "5    159\n",
       "3    159\n",
       "2    159\n",
       "9    158\n",
       "7    158\n",
       "8    155\n",
       "Name: label, dtype: int64"
      ]
     },
     "execution_count": 9,
     "metadata": {},
     "output_type": "execute_result"
    }
   ],
   "source": [
    "df['label'].value_counts()"
   ]
  },
  {
   "cell_type": "markdown",
   "metadata": {},
   "source": [
    "Случайная цифра из датасета"
   ]
  },
  {
   "cell_type": "code",
   "execution_count": 10,
   "metadata": {},
   "outputs": [
    {
     "data": {
      "text/plain": [
       "(5, <matplotlib.image.AxesImage at 0x274e8c76e48>)"
      ]
     },
     "execution_count": 10,
     "metadata": {},
     "output_type": "execute_result"
    },
    {
     "data": {
      "image/png": "[encoded data removed]",
      "text/plain": [
       "<Figure size 432x288 with 1 Axes>"
      ]
     },
     "metadata": {},
     "output_type": "display_data"
    }
   ],
   "source": [
    "img = digits[100].reshape(16, 16)\n",
    "labels[100], plt.imshow(img)"
   ]
  },
  {
   "cell_type": "markdown",
   "metadata": {
    "slideshow": {
     "slide_type": "-"
    }
   },
   "source": [
    "***\n",
    "## Строим модель"
   ]
  },
  {
   "cell_type": "markdown",
   "metadata": {},
   "source": [
    "Импортируем `scikit-learn`"
   ]
  },
  {
   "cell_type": "code",
   "execution_count": 11,
   "metadata": {},
   "outputs": [],
   "source": [
    "from sklearn.neighbors import KNeighborsClassifier\n",
    "from sklearn.model_selection import train_test_split"
   ]
  },
  {
   "cell_type": "markdown",
   "metadata": {},
   "source": [
    "Создаем тренеровочную и тестовую выборку с помощью функции `train_test_split`"
   ]
  },
  {
   "cell_type": "code",
   "execution_count": 12,
   "metadata": {},
   "outputs": [],
   "source": [
    "x_tr, x_test, y_tr, y_test = train_test_split(digits, labels, test_size=0.20, random_state=42)"
   ]
  },
  {
   "cell_type": "code",
   "execution_count": 13,
   "metadata": {},
   "outputs": [],
   "source": [
    "x_train, x_val, y_train, y_val = train_test_split(x_tr, y_tr, test_size=0.20, random_state=42)"
   ]
  },
  {
   "cell_type": "markdown",
   "metadata": {},
   "source": [
    "Теперь создаем нашу модель с помощью класса `KNeighborsClassifier`. Ставим окно в 14 ближайщих соседей. Обучаем нашу модель с помощью метода `fit`."
   ]
  },
  {
   "cell_type": "code",
   "execution_count": 14,
   "metadata": {},
   "outputs": [],
   "source": [
    "model = KNeighborsClassifier()"
   ]
  },
  {
   "cell_type": "code",
   "execution_count": 15,
   "metadata": {},
   "outputs": [
    {
     "data": {
      "text/plain": [
       "KNeighborsClassifier(algorithm='auto', leaf_size=30, metric='minkowski',\n",
       "           metric_params=None, n_jobs=1, n_neighbors=5, p=2,\n",
       "           weights='uniform')"
      ]
     },
     "execution_count": 15,
     "metadata": {},
     "output_type": "execute_result"
    }
   ],
   "source": [
    "model.fit(x_train, y_train)"
   ]
  },
  {
   "cell_type": "markdown",
   "metadata": {},
   "source": [
    "Импортируем функцию `accuracy_score` для оценки качества нашей модели. Проверяем нашу модель на тестовой выборке. Точность: 89-91% "
   ]
  },
  {
   "cell_type": "code",
   "execution_count": 16,
   "metadata": {},
   "outputs": [],
   "source": [
    "from sklearn.metrics import accuracy_score"
   ]
  },
  {
   "cell_type": "code",
   "execution_count": 17,
   "metadata": {},
   "outputs": [
    {
     "data": {
      "text/plain": [
       "0.8705882352941177"
      ]
     },
     "execution_count": 17,
     "metadata": {},
     "output_type": "execute_result"
    }
   ],
   "source": [
    "accuracy_score(y_val, model.predict(x_val))"
   ]
  },
  {
   "cell_type": "code",
   "execution_count": 18,
   "metadata": {},
   "outputs": [],
   "source": [
    "??accuracy_score"
   ]
  },
  {
   "cell_type": "markdown",
   "metadata": {},
   "source": [
    "Предиктим цифру, которую рисовали выше. Получаем 5. Ответ верный."
   ]
  },
  {
   "cell_type": "code",
   "execution_count": 19,
   "metadata": {},
   "outputs": [
    {
     "data": {
      "text/plain": [
       "array([5])"
      ]
     },
     "execution_count": 19,
     "metadata": {},
     "output_type": "execute_result"
    }
   ],
   "source": [
    "model.predict(digits[100][None])"
   ]
  },
  {
   "cell_type": "markdown",
   "metadata": {},
   "source": [
    "Теперь посмотрим на наши результаты получше, построим матрицу несоответствия. Импортируем модуль `ConfusionMatrix` из `pandas_ml` с помощью него построим и выведем нашу матрицу.\n",
    "\n",
    "Видно что подавляющее большинство цифр распознается верно."
   ]
  },
  {
   "cell_type": "code",
   "execution_count": 20,
   "metadata": {},
   "outputs": [],
   "source": [
    "from pandas_ml import ConfusionMatrix"
   ]
  },
  {
   "cell_type": "code",
   "execution_count": 21,
   "metadata": {},
   "outputs": [
    {
     "data": {
      "text/plain": [
       "<matplotlib.axes._subplots.AxesSubplot at 0x274eb02a438>"
      ]
     },
     "execution_count": 21,
     "metadata": {},
     "output_type": "execute_result"
    },
    {
     "data": {
      "image/png": "[encoded data removed]",
      "text/plain": [
       "<Figure size 648x576 with 2 Axes>"
      ]
     },
     "metadata": {},
     "output_type": "display_data"
    }
   ],
   "source": [
    "y_pred = model.predict(x_test)\n",
    "cm = ConfusionMatrix(y_test, y_pred)\n",
    "cm.plot(cmap=plt.cm.Blues)"
   ]
  },
  {
   "cell_type": "code",
   "execution_count": 22,
   "metadata": {},
   "outputs": [
    {
     "data": {
      "text/plain": [
       "Predicted   0   1   2   3   4   5   6   7   8   9  __all__\n",
       "Actual                                                    \n",
       "0          27   0   0   0   0   0   1   0   0   0       28\n",
       "1           0  29   1   0   1   0   0   0   0   0       31\n",
       "2           0   2  32   0   0   0   0   0   0   0       34\n",
       "3           0   0   0  34   0   0   0   0   1   0       35\n",
       "4           0   1   1   0  33   0   0   0   0   0       35\n",
       "5           0   0   0   0   0  28   0   0   0   0       28\n",
       "6           0   0   0   0   1   1  24   0   0   0       26\n",
       "7           0   5   0   0   0   0   0  27   0   0       32\n",
       "8           1   0   4   1   0   1   0   1  26   1       35\n",
       "9           2   1   0   2   1   2   0   0   0  27       35\n",
       "__all__    30  38  38  37  36  32  25  28  27  28      319"
      ]
     },
     "execution_count": 22,
     "metadata": {},
     "output_type": "execute_result"
    }
   ],
   "source": [
    "cm"
   ]
  },
  {
   "cell_type": "markdown",
   "metadata": {},
   "source": [
    "***\n",
    "## Гиперпараметры"
   ]
  },
  {
   "cell_type": "markdown",
   "metadata": {},
   "source": [
    "Теперь улучшим модель. Подберем такие параметры, чтобы наша точность была наилучшей. Мы будем подбирать `n_neighbors`, `metric` и `weights`.\n",
    "\n",
    "Ниже импортируем класс `GridSearchCV`. Задаем словарь с параметрами `params`. Из этих параметров мы выберем те, которые дадут наилучший результат в распозновании цифр."
   ]
  },
  {
   "cell_type": "code",
   "execution_count": 1,
   "metadata": {},
   "outputs": [],
   "source": [
    "from sklearn.model_selection import GridSearchCV"
   ]
  },
  {
   "cell_type": "code",
   "execution_count": 24,
   "metadata": {},
   "outputs": [],
   "source": [
    "params = {\"n_neighbors\": np.arange(1, 31, 2), \n",
    "          \"metric\": [\"euclidean\", \"cityblock\", \"chebyshev\"],\n",
    "          \"weights\": [\"uniform\",\"distance\"]}"
   ]
  },
  {
   "cell_type": "markdown",
   "metadata": {},
   "source": [
    "Создаем объект `grid` класса `GridSearchCV` и передаем туда наши параметры. Обучаем его и находим наилучшие параметры и так же смотрим нашу точность на них."
   ]
  },
  {
   "cell_type": "code",
   "execution_count": 25,
   "metadata": {},
   "outputs": [],
   "source": [
    "grid = GridSearchCV(model, params)"
   ]
  },
  {
   "cell_type": "code",
   "execution_count": 26,
   "metadata": {},
   "outputs": [
    {
     "data": {
      "text/plain": [
       "GridSearchCV(cv=None, error_score='raise',\n",
       "       estimator=KNeighborsClassifier(algorithm='auto', leaf_size=30, metric='minkowski',\n",
       "           metric_params=None, n_jobs=1, n_neighbors=5, p=2,\n",
       "           weights='uniform'),\n",
       "       fit_params={}, iid=True, n_jobs=1,\n",
       "       param_grid={'n_neighbors': array([ 1,  3,  5,  7,  9, 11, 13, 15, 17, 19, 21, 23, 25, 27, 29]), 'metric': ['euclidean', 'cityblock', 'chebyshev'], 'weights': ['uniform', 'distance']},\n",
       "       pre_dispatch='2*n_jobs', refit=True, scoring=None, verbose=0)"
      ]
     },
     "execution_count": 26,
     "metadata": {},
     "output_type": "execute_result"
    }
   ],
   "source": [
    "grid.fit(x_train, y_train)"
   ]
  },
  {
   "cell_type": "code",
   "execution_count": 27,
   "metadata": {},
   "outputs": [
    {
     "data": {
      "text/plain": [
       "{'metric': 'cityblock', 'n_neighbors': 5, 'weights': 'distance'}"
      ]
     },
     "execution_count": 27,
     "metadata": {},
     "output_type": "execute_result"
    }
   ],
   "source": [
    "grid.best_params_"
   ]
  },
  {
   "cell_type": "code",
   "execution_count": 28,
   "metadata": {},
   "outputs": [
    {
     "data": {
      "text/plain": [
       "0.8862745098039215"
      ]
     },
     "execution_count": 28,
     "metadata": {},
     "output_type": "execute_result"
    }
   ],
   "source": [
    "acc = grid.score(x_val, y_val)\n",
    "acc"
   ]
  },
  {
   "cell_type": "code",
   "execution_count": 29,
   "metadata": {},
   "outputs": [
    {
     "data": {
      "text/plain": [
       "0.9028213166144201"
      ]
     },
     "execution_count": 29,
     "metadata": {},
     "output_type": "execute_result"
    }
   ],
   "source": [
    "acc = grid.score(x_test, y_test)\n",
    "acc"
   ]
  },
  {
   "cell_type": "code",
   "execution_count": 30,
   "metadata": {},
   "outputs": [
    {
     "data": {
      "text/plain": [
       "(1019, 255, 319)"
      ]
     },
     "execution_count": 30,
     "metadata": {},
     "output_type": "execute_result"
    }
   ],
   "source": [
    "len(x_train), len(x_val), len(x_test)"
   ]
  },
  {
   "cell_type": "markdown",
   "metadata": {},
   "source": [
    "Добившись такого результата снова постром матрицу несоответствия."
   ]
  },
  {
   "cell_type": "code",
   "execution_count": 31,
   "metadata": {},
   "outputs": [
    {
     "data": {
      "text/plain": [
       "<matplotlib.axes._subplots.AxesSubplot at 0x274eb1c00b8>"
      ]
     },
     "execution_count": 31,
     "metadata": {},
     "output_type": "execute_result"
    },
    {
     "data": {
      "image/png": "[encoded data removed]",
      "text/plain": [
       "<Figure size 648x576 with 2 Axes>"
      ]
     },
     "metadata": {},
     "output_type": "display_data"
    }
   ],
   "source": [
    "y_pred = grid.predict(x_test)\n",
    "cm = ConfusionMatrix(y_test, y_pred)\n",
    "cm.plot(cmap=plt.cm.Blues)"
   ]
  },
  {
   "cell_type": "code",
   "execution_count": 32,
   "metadata": {},
   "outputs": [
    {
     "name": "stderr",
     "output_type": "stream",
     "text": [
      "C:\\Users\\Fridge\\Anaconda3\\envs\\fastai\\lib\\site-packages\\pandas_ml\\confusion_matrix\\stats.py:60: FutureWarning: supplying multiple axes to axis is deprecated and will be removed in a future version.\n",
      "  num = df[df > 1].dropna(axis=[0, 1], thresh=1).applymap(lambda n: choose(n, 2)).sum().sum() - np.float64(nis2 * njs2) / n2\n",
      "C:\\Users\\Fridge\\Anaconda3\\envs\\fastai\\lib\\site-packages\\pandas_ml\\confusion_matrix\\bcm.py:346: RuntimeWarning: divide by zero encountered in double_scalars\n",
      "  return(np.float64(self.LRP) / self.LRN)\n"
     ]
    },
    {
     "data": {
      "text/plain": [
       "OrderedDict([('cm', Predicted   0   1   2   3   4   5   6   7   8   9  __all__\n",
       "              Actual                                                    \n",
       "              0          27   0   0   0   0   0   1   0   0   0       28\n",
       "              1           0  29   1   0   1   0   0   0   0   0       31\n",
       "              2           0   2  32   0   0   0   0   0   0   0       34\n",
       "              3           0   0   0  34   0   0   0   0   1   0       35\n",
       "              4           0   1   1   0  33   0   0   0   0   0       35\n",
       "              5           0   0   0   0   0  28   0   0   0   0       28\n",
       "              6           0   0   0   0   1   1  24   0   0   0       26\n",
       "              7           0   4   0   0   0   0   0  28   0   0       32\n",
       "              8           1   0   3   1   0   2   0   1  26   1       35\n",
       "              9           2   1   0   2   1   2   0   0   0  27       35\n",
       "              __all__    30  37  37  37  36  33  25  29  27  28      319),\n",
       "             ('overall',\n",
       "              OrderedDict([('Accuracy', 0.9028213166144201),\n",
       "                           ('95% CI',\n",
       "                            (0.8649022350928787, 0.9330131664419636)),\n",
       "                           ('No Information Rate', 'ToDo'),\n",
       "                           ('P-Value [Acc > NIR]', 8.809902682330209e-229),\n",
       "                           ('Kappa', 0.8919636419254048),\n",
       "                           (\"Mcnemar's Test P-Value\", 'ToDo')])),\n",
       "             ('class',\n",
       "              Classes                                         0          1          2  \\\n",
       "              Population                                    319        319        319   \n",
       "              P: Condition positive                          28         31         34   \n",
       "              N: Condition negative                         291        288        285   \n",
       "              Test outcome positive                          30         37         37   \n",
       "              Test outcome negative                         289        282        282   \n",
       "              TP: True Positive                              27         29         32   \n",
       "              TN: True Negative                             288        280        280   \n",
       "              FP: False Positive                              3          8          5   \n",
       "              FN: False Negative                              1          2          2   \n",
       "              TPR: (Sensitivity, hit rate, recall)     0.964286   0.935484   0.941176   \n",
       "              TNR=SPC: (Specificity)                   0.989691   0.972222   0.982456   \n",
       "              PPV: Pos Pred Value (Precision)               0.9   0.783784   0.864865   \n",
       "              NPV: Neg Pred Value                       0.99654   0.992908   0.992908   \n",
       "              FPR: False-out                          0.0103093  0.0277778  0.0175439   \n",
       "              FDR: False Discovery Rate                     0.1   0.216216   0.135135   \n",
       "              FNR: Miss Rate                          0.0357143  0.0645161  0.0588235   \n",
       "              ACC: Accuracy                            0.987461   0.968652   0.978056   \n",
       "              F1 score                                 0.931034   0.852941   0.901408   \n",
       "              MCC: Matthews correlation coefficient    0.924812   0.839647   0.890094   \n",
       "              Informedness                             0.953976   0.907706   0.923633   \n",
       "              Markedness                                0.89654   0.776692   0.857773   \n",
       "              Prevalence                              0.0877743  0.0971787   0.106583   \n",
       "              LR+: Positive likelihood ratio            93.5357    33.6774    53.6471   \n",
       "              LR-: Negative likelihood ratio          0.0360863  0.0663594  0.0598739   \n",
       "              DOR: Diagnostic odds ratio                   2592      507.5        896   \n",
       "              FOR: False omission rate               0.00346021  0.0070922  0.0070922   \n",
       "              \n",
       "              Classes                                        3           4          5  \\\n",
       "              Population                                   319         319        319   \n",
       "              P: Condition positive                         35          35         28   \n",
       "              N: Condition negative                        284         284        291   \n",
       "              Test outcome positive                         37          36         33   \n",
       "              Test outcome negative                        282         283        286   \n",
       "              TP: True Positive                             34          33         28   \n",
       "              TN: True Negative                            281         281        286   \n",
       "              FP: False Positive                             3           3          5   \n",
       "              FN: False Negative                             1           2          0   \n",
       "              TPR: (Sensitivity, hit rate, recall)    0.971429    0.942857          1   \n",
       "              TNR=SPC: (Specificity)                  0.989437    0.989437   0.982818   \n",
       "              PPV: Pos Pred Value (Precision)         0.918919    0.916667   0.848485   \n",
       "              NPV: Neg Pred Value                     0.996454    0.992933          1   \n",
       "              FPR: False-out                         0.0105634   0.0105634  0.0171821   \n",
       "              FDR: False Discovery Rate              0.0810811   0.0833333   0.151515   \n",
       "              FNR: Miss Rate                         0.0285714   0.0571429          0   \n",
       "              ACC: Accuracy                           0.987461    0.984326   0.984326   \n",
       "              F1 score                                0.944444    0.929577   0.918033   \n",
       "              MCC: Matthews correlation coefficient   0.937843    0.920877   0.913185   \n",
       "              Informedness                            0.960865    0.932294   0.982818   \n",
       "              Markedness                              0.915373      0.9096   0.848485   \n",
       "              Prevalence                              0.109718    0.109718  0.0877743   \n",
       "              LR+: Positive likelihood ratio           91.9619     89.2571       58.2   \n",
       "              LR-: Negative likelihood ratio         0.0288765   0.0577529          0   \n",
       "              DOR: Diagnostic odds ratio               3184.67      1545.5        inf   \n",
       "              FOR: False omission rate               0.0035461  0.00706714          0   \n",
       "              \n",
       "              Classes                                         6           7           8  \\\n",
       "              Population                                    319         319         319   \n",
       "              P: Condition positive                          26          32          35   \n",
       "              N: Condition negative                         293         287         284   \n",
       "              Test outcome positive                          25          29          27   \n",
       "              Test outcome negative                         294         290         292   \n",
       "              TP: True Positive                              24          28          26   \n",
       "              TN: True Negative                             292         286         283   \n",
       "              FP: False Positive                              1           1           1   \n",
       "              FN: False Negative                              2           4           9   \n",
       "              TPR: (Sensitivity, hit rate, recall)     0.923077       0.875    0.742857   \n",
       "              TNR=SPC: (Specificity)                   0.996587    0.996516    0.996479   \n",
       "              PPV: Pos Pred Value (Precision)              0.96    0.965517    0.962963   \n",
       "              NPV: Neg Pred Value                      0.993197    0.986207    0.969178   \n",
       "              FPR: False-out                         0.00341297  0.00348432  0.00352113   \n",
       "              FDR: False Discovery Rate                    0.04   0.0344828    0.037037   \n",
       "              FNR: Miss Rate                          0.0769231       0.125    0.257143   \n",
       "              ACC: Accuracy                            0.990596    0.984326    0.968652   \n",
       "              F1 score                                 0.941176    0.918033     0.83871   \n",
       "              MCC: Matthews correlation coefficient    0.936281    0.910737     0.83016   \n",
       "              Informedness                             0.919664    0.871516    0.739336   \n",
       "              Markedness                               0.953197    0.951724    0.932141   \n",
       "              Prevalence                              0.0815047    0.100313    0.109718   \n",
       "              LR+: Positive likelihood ratio            270.462     251.125     210.971   \n",
       "              LR-: Negative likelihood ratio          0.0771865    0.125437    0.258051   \n",
       "              DOR: Diagnostic odds ratio                   3504        2002     817.556   \n",
       "              FOR: False omission rate               0.00680272   0.0137931   0.0308219   \n",
       "              \n",
       "              Classes                                         9  \n",
       "              Population                                    319  \n",
       "              P: Condition positive                          35  \n",
       "              N: Condition negative                         284  \n",
       "              Test outcome positive                          28  \n",
       "              Test outcome negative                         291  \n",
       "              TP: True Positive                              27  \n",
       "              TN: True Negative                             283  \n",
       "              FP: False Positive                              1  \n",
       "              FN: False Negative                              8  \n",
       "              TPR: (Sensitivity, hit rate, recall)     0.771429  \n",
       "              TNR=SPC: (Specificity)                   0.996479  \n",
       "              PPV: Pos Pred Value (Precision)          0.964286  \n",
       "              NPV: Neg Pred Value                      0.972509  \n",
       "              FPR: False-out                         0.00352113  \n",
       "              FDR: False Discovery Rate               0.0357143  \n",
       "              FNR: Miss Rate                           0.228571  \n",
       "              ACC: Accuracy                            0.971787  \n",
       "              F1 score                                 0.857143  \n",
       "              MCC: Matthews correlation coefficient    0.848158  \n",
       "              Informedness                             0.767907  \n",
       "              Markedness                               0.936794  \n",
       "              Prevalence                               0.109718  \n",
       "              LR+: Positive likelihood ratio            219.086  \n",
       "              LR-: Negative likelihood ratio           0.229379  \n",
       "              DOR: Diagnostic odds ratio                955.125  \n",
       "              FOR: False omission rate                0.0274914  )])"
      ]
     },
     "execution_count": 32,
     "metadata": {},
     "output_type": "execute_result"
    }
   ],
   "source": [
    "cm.stats()"
   ]
  },
  {
   "cell_type": "markdown",
   "metadata": {},
   "source": [
    "***\n",
    "# FastAI Code\n",
    "   Импортируем все важные (нет) модули из `fastai`. Далее сплитим нашу выборку на тестовую, валидационную и тренеровочную."
   ]
  },
  {
   "cell_type": "code",
   "execution_count": 33,
   "metadata": {},
   "outputs": [
    {
     "name": "stderr",
     "output_type": "stream",
     "text": [
      "C:\\Users\\Fridge\\Anaconda3\\envs\\fastai\\lib\\site-packages\\sklearn\\ensemble\\weight_boosting.py:29: DeprecationWarning: numpy.core.umath_tests is an internal NumPy module and should not be imported. It will be removed in a future NumPy release.\n",
      "  from numpy.core.umath_tests import inner1d\n"
     ]
    }
   ],
   "source": [
    "from fastai.imports import *\n",
    "from fastai.torch_imports import *\n",
    "from fastai.transforms import *\n",
    "from fastai.conv_learner import *\n",
    "from fastai.model import *\n",
    "from fastai.dataset import *\n",
    "from fastai.sgdr import *\n",
    "from fastai.plots import *"
   ]
  },
  {
   "cell_type": "code",
   "execution_count": 34,
   "metadata": {},
   "outputs": [],
   "source": [
    "x_tr, x_test, y_tr, y_test = train_test_split(digits, labels, test_size=0.20, random_state=42)"
   ]
  },
  {
   "cell_type": "code",
   "execution_count": 35,
   "metadata": {},
   "outputs": [],
   "source": [
    "x_train, x_val, y_train, y_val = train_test_split(x_tr, y_tr, test_size=0.20, random_state=42)"
   ]
  },
  {
   "cell_type": "markdown",
   "metadata": {},
   "source": [
    "Приводим наши данные в формат, подходящий модели."
   ]
  },
  {
   "cell_type": "code",
   "execution_count": 37,
   "metadata": {},
   "outputs": [
    {
     "data": {
      "text/plain": [
       "(1019, 256)"
      ]
     },
     "execution_count": 37,
     "metadata": {},
     "output_type": "execute_result"
    }
   ],
   "source": [
    "x_train.shape"
   ]
  },
  {
   "cell_type": "code",
   "execution_count": 38,
   "metadata": {},
   "outputs": [],
   "source": [
    "x_train = x_train.reshape(len(x_train), 16, 16)\n",
    "x_val = x_val.reshape(len(x_val), 16, 16)\n",
    "x_test = x_test.reshape(len(x_test), 16, 16)"
   ]
  },
  {
   "cell_type": "code",
   "execution_count": 39,
   "metadata": {},
   "outputs": [],
   "source": [
    "x_train = np.expand_dims(x_train, axis=1)\n",
    "x_val = np.expand_dims(x_val, axis=1)\n",
    "x_test = np.expand_dims(x_test, axis=1)"
   ]
  },
  {
   "cell_type": "code",
   "execution_count": 40,
   "metadata": {},
   "outputs": [],
   "source": [
    "x_train = np.broadcast_to(x_train, (len(x_train), 3, 16, 16))\n",
    "x_val = np.broadcast_to(x_val, (len(x_val), 3, 16, 16))\n",
    "x_test = np.broadcast_to(x_test, (len(x_test), 3, 16, 16))"
   ]
  },
  {
   "cell_type": "code",
   "execution_count": 41,
   "metadata": {},
   "outputs": [
    {
     "data": {
      "text/plain": [
       "((1019, 3, 16, 16), (255, 3, 16, 16), (319, 3, 16, 16))"
      ]
     },
     "execution_count": 41,
     "metadata": {},
     "output_type": "execute_result"
    }
   ],
   "source": [
    "x_train.shape, x_val.shape, x_test.shape"
   ]
  },
  {
   "cell_type": "code",
   "execution_count": 43,
   "metadata": {},
   "outputs": [],
   "source": [
    "train = (x_train, y_train)\n",
    "val = (x_val, y_val)\n",
    "test = (x_test, y_test)"
   ]
  },
  {
   "cell_type": "markdown",
   "metadata": {},
   "source": [
    "Настало время создать нашу модель. Будем использовать архитектуру `resnet34`. Batch size = 16."
   ]
  },
  {
   "cell_type": "code",
   "execution_count": 63,
   "metadata": {},
   "outputs": [],
   "source": [
    "arch = resnet34"
   ]
  },
  {
   "cell_type": "code",
   "execution_count": 64,
   "metadata": {},
   "outputs": [],
   "source": [
    "dataSet = ImageClassifierData.from_arrays(PATH, train, val, test = x_test, bs=16)"
   ]
  },
  {
   "cell_type": "code",
   "execution_count": 65,
   "metadata": {},
   "outputs": [],
   "source": [
    "learn = ConvLearner.pretrained(arch, dataSet, precompute=True)"
   ]
  },
  {
   "cell_type": "markdown",
   "metadata": {},
   "source": [
    "С помощью метода `.lr_find()` найдем подходящую скорость обучения для нашей модели."
   ]
  },
  {
   "cell_type": "code",
   "execution_count": 67,
   "metadata": {},
   "outputs": [
    {
     "data": {
      "application/vnd.jupyter.widget-view+json": {
       "model_id": "423e4b7cb0414e9597d46ef8c76e4872",
       "version_major": 2,
       "version_minor": 0
      },
      "text/plain": [
       "HBox(children=(IntProgress(value=0, description='Epoch', max=1), HTML(value='')))"
      ]
     },
     "metadata": {},
     "output_type": "display_data"
    },
    {
     "name": "stdout",
     "output_type": "stream",
     "text": [
      "                                                                                                                       \r"
     ]
    }
   ],
   "source": [
    "lrf=learn.lr_find()"
   ]
  },
  {
   "cell_type": "code",
   "execution_count": 68,
   "metadata": {},
   "outputs": [
    {
     "data": {
      "image/png": "[encoded data removed]",
      "text/plain": [
       "<Figure size 432x288 with 1 Axes>"
      ]
     },
     "metadata": {},
     "output_type": "display_data"
    }
   ],
   "source": [
    "learn.sched.plot()"
   ]
  },
  {
   "cell_type": "markdown",
   "metadata": {},
   "source": [
    "По графику видим, что нам подойдет скорость 0.01. Выставляем ее и обучаем нашу модель 2 эпохи при `precompute = True`"
   ]
  },
  {
   "cell_type": "code",
   "execution_count": 69,
   "metadata": {},
   "outputs": [
    {
     "data": {
      "application/vnd.jupyter.widget-view+json": {
       "model_id": "cee0a5c9700f4d7986fe3290a4f36ea4",
       "version_major": 2,
       "version_minor": 0
      },
      "text/plain": [
       "HBox(children=(IntProgress(value=0, description='Epoch', max=2), HTML(value='')))"
      ]
     },
     "metadata": {},
     "output_type": "display_data"
    },
    {
     "name": "stdout",
     "output_type": "stream",
     "text": [
      "epoch      trn_loss   val_loss   accuracy                                                                              \n",
      "    0      1.101196   0.622346   0.792157  \n",
      "    1      0.801565   0.529178   0.811765                                                                              \n"
     ]
    },
    {
     "data": {
      "text/plain": [
       "[array([0.52918]), 0.811764706583584]"
      ]
     },
     "execution_count": 69,
     "metadata": {},
     "output_type": "execute_result"
    }
   ],
   "source": [
    "learn.fit(1e-2, 2)"
   ]
  },
  {
   "cell_type": "markdown",
   "metadata": {},
   "source": [
    "Отключаем `precompute`. И обучаемся еще 5 эпох с использованием `SGDR`."
   ]
  },
  {
   "cell_type": "code",
   "execution_count": 70,
   "metadata": {},
   "outputs": [],
   "source": [
    "learn.precompute = False"
   ]
  },
  {
   "cell_type": "code",
   "execution_count": 71,
   "metadata": {},
   "outputs": [
    {
     "data": {
      "application/vnd.jupyter.widget-view+json": {
       "model_id": "794ac321ba3d4b559895f6a3a13ba7f2",
       "version_major": 2,
       "version_minor": 0
      },
      "text/plain": [
       "HBox(children=(IntProgress(value=0, description='Epoch', max=5), HTML(value='')))"
      ]
     },
     "metadata": {},
     "output_type": "display_data"
    },
    {
     "name": "stdout",
     "output_type": "stream",
     "text": [
      "epoch      trn_loss   val_loss   accuracy                                                                              \n",
      "    0      0.641666   0.538438   0.823529  \n",
      "    1      0.550723   0.476378   0.835294                                                                              \n",
      "    2      0.51762    0.410786   0.862745                                                                              \n",
      "    3      0.461065   0.396195   0.862745                                                                              \n",
      "    4      0.464116   0.447034   0.854902                                                                              \n"
     ]
    },
    {
     "data": {
      "text/plain": [
       "[array([0.44703]), 0.8549019612518012]"
      ]
     },
     "execution_count": 71,
     "metadata": {},
     "output_type": "execute_result"
    }
   ],
   "source": [
    "learn.fit(1e-2, 5, cycle_len=1)"
   ]
  },
  {
   "cell_type": "markdown",
   "metadata": {},
   "source": [
    "Получаем небольшое улучшение. Теперь разморозим все слои и обучим нашу модель с помощью дифференциальных скоростей. Добавим умножение длины цикла в `.fit()`"
   ]
  },
  {
   "cell_type": "code",
   "execution_count": 75,
   "metadata": {},
   "outputs": [],
   "source": [
    "learn.unfreeze()"
   ]
  },
  {
   "cell_type": "code",
   "execution_count": 76,
   "metadata": {},
   "outputs": [],
   "source": [
    "lr=np.array([1e-4, 1e-3, 1e-2])"
   ]
  },
  {
   "cell_type": "code",
   "execution_count": 77,
   "metadata": {},
   "outputs": [
    {
     "data": {
      "application/vnd.jupyter.widget-view+json": {
       "model_id": "cadd2bb1dcef4d5dad8dc71781503952",
       "version_major": 2,
       "version_minor": 0
      },
      "text/plain": [
       "HBox(children=(IntProgress(value=0, description='Epoch', max=7), HTML(value='')))"
      ]
     },
     "metadata": {},
     "output_type": "display_data"
    },
    {
     "name": "stdout",
     "output_type": "stream",
     "text": [
      "epoch      trn_loss   val_loss   accuracy                                                                              \n",
      "    0      1.737551   1.036015   0.709804  \n",
      "    1      1.225216   0.654693   0.811765                                                                              \n",
      "    2      0.847301   0.492751   0.882353                                                                              \n",
      "    3      0.801725   0.463763   0.894118                                                                              \n",
      "    4      0.686041   0.371286   0.886275                                                                              \n",
      "    5      0.598054   0.341955   0.890196                                                                              \n",
      "    6      0.521073   0.318718   0.898039                                                                              \n"
     ]
    },
    {
     "data": {
      "text/plain": [
       "[array([0.31872]), 0.8980392161537619]"
      ]
     },
     "execution_count": 77,
     "metadata": {},
     "output_type": "execute_result"
    }
   ],
   "source": [
    "learn.fit(lr, 3, cycle_len=1, cycle_mult=2)"
   ]
  },
  {
   "cell_type": "markdown",
   "metadata": {},
   "source": [
    "*val_loss* продолжает падать. А так же *trn_loss* больше, *val_loss*. Продолжим обучаться до переобучения."
   ]
  },
  {
   "cell_type": "code",
   "execution_count": 80,
   "metadata": {},
   "outputs": [
    {
     "data": {
      "application/vnd.jupyter.widget-view+json": {
       "model_id": "c501c8df5fa04adab6a420a7b314643d",
       "version_major": 2,
       "version_minor": 0
      },
      "text/plain": [
       "HBox(children=(IntProgress(value=0, description='Epoch', max=26), HTML(value='')))"
      ]
     },
     "metadata": {},
     "output_type": "display_data"
    },
    {
     "name": "stdout",
     "output_type": "stream",
     "text": [
      "epoch      trn_loss   val_loss   accuracy                                                                              \n",
      "    0      0.522116   0.364062   0.894118  \n",
      "    1      0.51932    0.32211    0.905882                                                                              \n",
      "    2      0.49572    0.317374   0.898039                                                                              \n",
      "    3      0.475252   0.288566   0.909804                                                                              \n",
      "    4      0.422268   0.260178   0.937255                                                                              \n",
      "    5      0.388856   0.235589   0.937255                                                                              \n",
      "    6      0.371236   0.247498   0.933333                                                                              \n",
      "    7      0.332968   0.249258   0.92549                                                                               \n",
      "    8      0.344276   0.278943   0.909804                                                                              \n",
      "    9      0.368794   0.274927   0.909804                                                                              \n",
      "    10     0.416655   0.335044   0.921569                                                                              \n",
      "    11     0.38425    0.271743   0.929412                                                                              \n",
      "    12     0.340286   0.294247   0.933333                                                                              \n",
      "    13     0.336518   0.267369   0.929412                                                                              \n",
      "    14     0.258071   0.296685   0.909804                                                                              \n",
      "    15     0.25721    0.24841    0.945098                                                                              \n",
      "    16     0.283081   0.215319   0.945098                                                                              \n",
      "    17     0.309566   0.236792   0.92549                                                                               \n",
      "    18     0.221494   0.211016   0.929412                                                                              \n",
      "    19     0.233029   0.207221   0.917647                                                                              \n",
      "    20     0.23865    0.20527    0.945098                                                                              \n",
      "    21     0.20303    0.229716   0.945098                                                                              \n",
      "    22     0.210161   0.205273   0.94902                                                                               \n",
      "    23     0.186535   0.182759   0.941176                                                                              \n",
      "    24     0.187715   0.188344   0.952941                                                                              \n",
      "    25     0.1991     0.193711   0.945098                                                                              \n"
     ]
    },
    {
     "data": {
      "text/plain": [
       "[array([0.19371]), 0.9450980392156862]"
      ]
     },
     "execution_count": 80,
     "metadata": {},
     "output_type": "execute_result"
    }
   ],
   "source": [
    "learn.fit(lr, 3, cycle_len=2, cycle_mult=3)"
   ]
  },
  {
   "cell_type": "markdown",
   "metadata": {},
   "source": [
    "Еще пару эпох."
   ]
  },
  {
   "cell_type": "code",
   "execution_count": 82,
   "metadata": {},
   "outputs": [
    {
     "data": {
      "application/vnd.jupyter.widget-view+json": {
       "model_id": "1452b7b8c50d43d28ee00eef76df635c",
       "version_major": 2,
       "version_minor": 0
      },
      "text/plain": [
       "HBox(children=(IntProgress(value=0, description='Epoch', max=7), HTML(value='')))"
      ]
     },
     "metadata": {},
     "output_type": "display_data"
    },
    {
     "name": "stdout",
     "output_type": "stream",
     "text": [
      "epoch      trn_loss   val_loss   accuracy                                                                              \n",
      "    0      0.209258   0.197401   0.952941  \n",
      "    1      0.189917   0.190869   0.952941                                                                              \n",
      "    2      0.235887   0.197188   0.952941                                                                              \n",
      "    3      0.225504   0.230341   0.933333                                                                              \n",
      "    4      0.245639   0.217497   0.937255                                                                              \n",
      "    5      0.201085   0.213818   0.941176                                                                              \n",
      "    6      0.165336   0.191745   0.94902                                                                               \n"
     ]
    },
    {
     "data": {
      "text/plain": [
       "[array([0.19175]), 0.9490196078431372]"
      ]
     },
     "execution_count": 82,
     "metadata": {},
     "output_type": "execute_result"
    }
   ],
   "source": [
    "learn.fit(lr, 3, cycle_len=1, cycle_mult=2)"
   ]
  },
  {
   "cell_type": "markdown",
   "metadata": {},
   "source": [
    "Точность достигла 0.94902, что на 4% выше, чем у kNN. Максимум который я получал в эксперементах 0.97. Строим матрицу несоответствия."
   ]
  },
  {
   "cell_type": "code",
   "execution_count": 83,
   "metadata": {},
   "outputs": [],
   "source": [
    "preds = np.argmax(learn.predict_array(x_test), axis=1)"
   ]
  },
  {
   "cell_type": "code",
   "execution_count": 84,
   "metadata": {},
   "outputs": [],
   "source": [
    "cm = confusion_matrix(y_test, preds)"
   ]
  },
  {
   "cell_type": "code",
   "execution_count": 85,
   "metadata": {},
   "outputs": [
    {
     "name": "stdout",
     "output_type": "stream",
     "text": [
      "[[27  0  0  0  0  0  0  0  1  0]\n",
      " [ 0 31  0  0  0  0  0  0  0  0]\n",
      " [ 0  0 34  0  0  0  0  0  0  0]\n",
      " [ 0  0  0 33  0  1  0  0  0  1]\n",
      " [ 0  1  0  0 34  0  0  0  0  0]\n",
      " [ 0  0  0  0  0 28  0  0  0  0]\n",
      " [ 0  0  0  0  1  1 24  0  0  0]\n",
      " [ 0  0  0  0  1  0  0 30  1  0]\n",
      " [ 0  0  1  0  0  0  0  0 34  0]\n",
      " [ 0  0  0  0  0  1  0  0  0 34]]\n"
     ]
    },
    {
     "data": {
      "image/png": "[encoded data removed]",
      "text/plain": [
       "<Figure size 432x288 with 2 Axes>"
      ]
     },
     "metadata": {},
     "output_type": "display_data"
    }
   ],
   "source": [
    "plot_confusion_matrix(cm, [i for i in range(10)])"
   ]
  },
  {
   "cell_type": "code",
   "execution_count": null,
   "metadata": {},
   "outputs": [],
   "source": []
  }
 ],
 "metadata": {
  "kernelspec": {
   "display_name": "Python 3",
   "language": "python",
   "name": "python3"
  },
  "language_info": {
   "codemirror_mode": {
    "name": "ipython",
    "version": 3
   },
   "file_extension": ".py",
   "mimetype": "text/x-python",
   "name": "python",
   "nbconvert_exporter": "python",
   "pygments_lexer": "ipython3",
   "version": "3.6.5"
  }
 },
 "nbformat": 4,
 "nbformat_minor": 2
}
